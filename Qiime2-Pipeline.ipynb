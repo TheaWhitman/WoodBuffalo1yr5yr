{
 "cells": [
  {
   "cell_type": "markdown",
   "metadata": {},
   "source": [
    "# Qiime2 Pipeline (Version 2019.10)"
   ]
  },
  {
   "cell_type": "markdown",
   "metadata": {},
   "source": [
    "## Import Sequences and create quality-score plot visualizations"
   ]
  },
  {
   "cell_type": "code",
   "execution_count": 1,
   "metadata": {},
   "outputs": [
    {
     "name": "stdout",
     "output_type": "stream",
     "text": [
      "\u001b[32mImported ../WB2019-seqs/ as CasavaOneEightSingleLanePerSampleDirFmt to WB2019-seqs.qza\u001b[0m\r\n"
     ]
    }
   ],
   "source": [
    "!qiime tools import \\\n",
    "  --type 'SampleData[PairedEndSequencesWithQuality]' \\\n",
    "  --input-path ../WB2019-seqs/ \\\n",
    "  --input-format CasavaOneEightSingleLanePerSampleDirFmt \\\n",
    "  --output-path WB2019-seqs.qza"
   ]
  },
  {
   "cell_type": "code",
   "execution_count": 2,
   "metadata": {},
   "outputs": [
    {
     "name": "stdout",
     "output_type": "stream",
     "text": [
      "\u001b[32mSaved Visualization to: WB2019-seqs.qzv\u001b[0m\r\n"
     ]
    }
   ],
   "source": [
    "!qiime demux summarize \\\n",
    "--i-data WB2019-seqs.qza \\\n",
    "--o-visualization WB2019-seqs.qzv\n",
    "\n",
    "#!qiime tools view WB161916S-seqs.qzv"
   ]
  },
  {
   "cell_type": "code",
   "execution_count": 20,
   "metadata": {
    "collapsed": true
   },
   "outputs": [
    {
     "name": "stdout",
     "output_type": "stream",
     "text": [
      "Press the 'q' key, Control-C, or Control-D to quit. This view may no longer be accessible or work correctly after quitting.\n",
      "Press the 'q' key, Control-C, or Control-D to quit. This view may no longer be accessible or work correctly after quitting."
     ]
    }
   ],
   "source": [
    "!qiime tools view WB2019-seqs.qzv"
   ]
  },
  {
   "cell_type": "markdown",
   "metadata": {},
   "source": [
    "## Quality control using DADA2 and generate OTU table\n",
    "#### Each dataset went through trimming and truncating optimization to allow for best sequence retention\n",
    "#### Noisy sequences were trimmed off the beginning and most datasets were truncated where sequences consistantly dropped under a qc-score of 35"
   ]
  },
  {
   "cell_type": "code",
   "execution_count": 3,
   "metadata": {
    "collapsed": true
   },
   "outputs": [
    {
     "name": "stdout",
     "output_type": "stream",
     "text": [
      "Running external command line application(s). This may print messages to stdout and/or stderr.\n",
      "The command(s) being run are below. These commands cannot be manually re-run as they will depend on temporary files that no longer exist.\n",
      "\n",
      "Command: run_dada_paired.R /var/folders/0f/ff5j1xns5jbgs40zs1d96b2w0000gn/T/tmpk09loyu_/forward /var/folders/0f/ff5j1xns5jbgs40zs1d96b2w0000gn/T/tmpk09loyu_/reverse /var/folders/0f/ff5j1xns5jbgs40zs1d96b2w0000gn/T/tmpk09loyu_/output.tsv.biom /var/folders/0f/ff5j1xns5jbgs40zs1d96b2w0000gn/T/tmpk09loyu_/track.tsv /var/folders/0f/ff5j1xns5jbgs40zs1d96b2w0000gn/T/tmpk09loyu_/filt_f /var/folders/0f/ff5j1xns5jbgs40zs1d96b2w0000gn/T/tmpk09loyu_/filt_r 230 230 5 5 2.0 2.0 2 consensus 1.0 0 1000000\n",
      "\n",
      "R version 3.5.1 (2018-07-02) \n",
      "Loading required package: Rcpp\n",
      "DADA2: 1.10.0 / Rcpp: 1.0.2 / RcppParallel: 4.4.4 \n",
      "1) Filtering ...............................................................................\n",
      "2) Learning Error Rates\n",
      "228492675 total bases in 1015523 reads from 18 samples will be used for learning the error rates.\n",
      "228492675 total bases in 1015523 reads from 18 samples will be used for learning the error rates.\n",
      "3) Denoise remaining samples ...............................................................................\n",
      "4) Remove chimeras (method = consensus)\n",
      "6) Write output\n",
      "\u001b[32mSaved FeatureTable[Frequency] to: WB2019-table.qza\u001b[0m\n",
      "\u001b[32mSaved FeatureData[Sequence] to: WB2019-rep-seqs.qza\u001b[0m\n",
      "\u001b[32mSaved SampleData[DADA2Stats] to: WB2019-stats.qza\u001b[0m\n"
     ]
    }
   ],
   "source": [
    "# Try with more stringent parameters:\n",
    "\n",
    "!qiime dada2 denoise-paired --verbose \\\n",
    "  --i-demultiplexed-seqs WB2019-seqs.qza \\\n",
    "  --o-table WB2019-table \\\n",
    "  --o-representative-sequences WB2019-rep-seqs \\\n",
    "  --o-denoising-stats WB2019-stats \\\n",
    "  --p-n-threads 0 \\\n",
    "  --p-trim-left-f 5 \\\n",
    "  --p-trim-left-r 5 \\\n",
    "  --p-trunc-len-f 230 \\\n",
    "  --p-trunc-len-r 230 \n",
    " "
   ]
  },
  {
   "cell_type": "code",
   "execution_count": 4,
   "metadata": {
    "collapsed": true
   },
   "outputs": [
    {
     "name": "stdout",
     "output_type": "stream",
     "text": [
      "Running external command line application(s). This may print messages to stdout and/or stderr.\n",
      "The command(s) being run are below. These commands cannot be manually re-run as they will depend on temporary files that no longer exist.\n",
      "\n",
      "Command: run_dada_paired.R /var/folders/0f/ff5j1xns5jbgs40zs1d96b2w0000gn/T/tmpaux0omde/forward /var/folders/0f/ff5j1xns5jbgs40zs1d96b2w0000gn/T/tmpaux0omde/reverse /var/folders/0f/ff5j1xns5jbgs40zs1d96b2w0000gn/T/tmpaux0omde/output.tsv.biom /var/folders/0f/ff5j1xns5jbgs40zs1d96b2w0000gn/T/tmpaux0omde/track.tsv /var/folders/0f/ff5j1xns5jbgs40zs1d96b2w0000gn/T/tmpaux0omde/filt_f /var/folders/0f/ff5j1xns5jbgs40zs1d96b2w0000gn/T/tmpaux0omde/filt_r 240 230 12 12 2.0 2.0 2 consensus 1.0 0 1000000\n",
      "\n",
      "R version 3.5.1 (2018-07-02) \n",
      "Loading required package: Rcpp\n",
      "DADA2: 1.10.0 / Rcpp: 1.0.2 / RcppParallel: 4.4.4 \n",
      "1) Filtering ...............................................................................\n",
      "2) Learning Error Rates\n",
      "229670784 total bases in 1007328 reads from 18 samples will be used for learning the error rates.\n",
      "219597504 total bases in 1007328 reads from 18 samples will be used for learning the error rates.\n",
      "3) Denoise remaining samples ...............................................................................\n",
      "4) Remove chimeras (method = consensus)\n",
      "6) Write output\n",
      "\u001b[32mSaved FeatureTable[Frequency] to: WB2019-table2.qza\u001b[0m\n",
      "\u001b[32mSaved FeatureData[Sequence] to: WB2019-rep-seqs2.qza\u001b[0m\n",
      "\u001b[32mSaved SampleData[DADA2Stats] to: WB2019-stats2.qza\u001b[0m\n"
     ]
    }
   ],
   "source": [
    "# \n",
    "\n",
    "!qiime dada2 denoise-paired --verbose \\\n",
    "  --i-demultiplexed-seqs WB2019-seqs.qza \\\n",
    "  --o-table WB2019-table2 \\\n",
    "  --o-representative-sequences WB2019-rep-seqs2 \\\n",
    "  --o-denoising-stats WB2019-stats2 \\\n",
    "  --p-n-threads 0 \\\n",
    "  --p-trim-left-f 12 \\\n",
    "  --p-trim-left-r 12 \\\n",
    "  --p-trunc-len-f 240 \\\n",
    "  --p-trunc-len-r 230"
   ]
  },
  {
   "cell_type": "code",
   "execution_count": 10,
   "metadata": {
    "collapsed": true
   },
   "outputs": [
    {
     "name": "stdout",
     "output_type": "stream",
     "text": [
      "Running external command line application(s). This may print messages to stdout and/or stderr.\n",
      "The command(s) being run are below. These commands cannot be manually re-run as they will depend on temporary files that no longer exist.\n",
      "\n",
      "Command: run_dada_paired.R /var/folders/0f/ff5j1xns5jbgs40zs1d96b2w0000gn/T/tmplxgv7gk2/forward /var/folders/0f/ff5j1xns5jbgs40zs1d96b2w0000gn/T/tmplxgv7gk2/reverse /var/folders/0f/ff5j1xns5jbgs40zs1d96b2w0000gn/T/tmplxgv7gk2/output.tsv.biom /var/folders/0f/ff5j1xns5jbgs40zs1d96b2w0000gn/T/tmplxgv7gk2/track.tsv /var/folders/0f/ff5j1xns5jbgs40zs1d96b2w0000gn/T/tmplxgv7gk2/filt_f /var/folders/0f/ff5j1xns5jbgs40zs1d96b2w0000gn/T/tmplxgv7gk2/filt_r 230 230 12 12 3.0 3.0 2 consensus 1.0 0 1000000\n",
      "\n",
      "R version 3.5.1 (2018-07-02) \n",
      "Loading required package: Rcpp\n",
      "DADA2: 1.10.0 / Rcpp: 1.0.2 / RcppParallel: 4.4.4 \n",
      "1) Filtering ...............................................................................\n",
      "2) Learning Error Rates\n",
      "230745806 total bases in 1058467 reads from 17 samples will be used for learning the error rates.\n",
      "230745806 total bases in 1058467 reads from 17 samples will be used for learning the error rates.\n",
      "3) Denoise remaining samples ...............................................................................\n",
      "4) Remove chimeras (method = consensus)\n",
      "6) Write output\n",
      "\u001b[32mSaved FeatureTable[Frequency] to: WB2019-table3.qza\u001b[0m\n",
      "\u001b[32mSaved FeatureData[Sequence] to: WB2019-rep-seqs3.qza\u001b[0m\n",
      "\u001b[32mSaved SampleData[DADA2Stats] to: WB2019-stats3.qza\u001b[0m\n"
     ]
    }
   ],
   "source": [
    "# Blend two previous parameters, change MaxEE to 3\n",
    "\n",
    "#changing MaxEE resulted in an increase of frequency of ~1000 per sample. Good or no? \n",
    "\n",
    "!qiime dada2 denoise-paired --verbose \\\n",
    "  --i-demultiplexed-seqs WB2019-seqs.qza \\\n",
    "  --o-table WB2019-table3 \\\n",
    "  --o-representative-sequences WB2019-rep-seqs3 \\\n",
    "  --o-denoising-stats WB2019-stats3 \\\n",
    "  --p-n-threads 0 \\\n",
    "  --p-trim-left-f 12 \\\n",
    "  --p-trim-left-r 12 \\\n",
    "  --p-trunc-len-f 230 \\\n",
    "  --p-trunc-len-r 230 \\\n",
    "  --p-max-ee-f 3 \\\n",
    "  --p-max-ee-r 3 "
   ]
  },
  {
   "cell_type": "code",
   "execution_count": null,
   "metadata": {},
   "outputs": [],
   "source": [
    "!qiime dada2 denoise-paired --verbose \\\n",
    "  --i-demultiplexed-seqs WB2019-seqs.qza \\\n",
    "  --o-table WB2019-table4 \\\n",
    "  --o-representative-sequences WB2019-rep-seqs4 \\\n",
    "  --o-denoising-stats WB2019-stats4 \\\n",
    "  --p-n-threads 0 \\\n",
    "  --p-trim-left-f 12 \\\n",
    "  --p-trim-left-r 12 \\\n",
    "  --p-trunc-len-f 230 \\\n",
    "  --p-trunc-len-r 230 \\ "
   ]
  },
  {
   "cell_type": "code",
   "execution_count": 3,
   "metadata": {
    "collapsed": true
   },
   "outputs": [
    {
     "name": "stdout",
     "output_type": "stream",
     "text": [
      "Press the 'q' key, Control-C, or Control-D to quit. This view may no longer be accessible or work correctly after quitting.\n",
      "Press the 'q' key, Control-C, or Control-D to quit. This view may no longer be accessible or work correctly after quitting."
     ]
    }
   ],
   "source": [
    "!qiime tools view WB2019-table.qzv\n",
    "\n",
    "#Number of samples\t79\n",
    "#Number of features\t21,560\n",
    "#Total frequency\t3,327,999"
   ]
  },
  {
   "cell_type": "code",
   "execution_count": 4,
   "metadata": {
    "collapsed": true
   },
   "outputs": [
    {
     "name": "stdout",
     "output_type": "stream",
     "text": [
      "Press the 'q' key, Control-C, or Control-D to quit. This view may no longer be accessible or work correctly after quitting.\n",
      "Press the 'q' key, Control-C, or Control-D to quit. This view may no longer be accessible or work correctly after quitting."
     ]
    }
   ],
   "source": [
    "!qiime tools view WB2019-table2.qzv\n",
    "\n",
    "#Number of samples\t79\n",
    "#Number of features\t21,417\n",
    "#Total frequency\t3,353,221"
   ]
  },
  {
   "cell_type": "code",
   "execution_count": 5,
   "metadata": {
    "collapsed": true
   },
   "outputs": [
    {
     "name": "stdout",
     "output_type": "stream",
     "text": [
      "Press the 'q' key, Control-C, or Control-D to quit. This view may no longer be accessible or work correctly after quitting.\n",
      "Press the 'q' key, Control-C, or Control-D to quit. This view may no longer be accessible or work correctly after quitting."
     ]
    }
   ],
   "source": [
    "!qiime tools view WB2019-table3.qzv\n",
    "\n",
    "#Number of samples\t79\n",
    "#Number of features\t21,493\n",
    "#Total frequency\t3,647,664"
   ]
  },
  {
   "cell_type": "code",
   "execution_count": 6,
   "metadata": {
    "collapsed": true
   },
   "outputs": [
    {
     "name": "stdout",
     "output_type": "stream",
     "text": [
      "Press the 'q' key, Control-C, or Control-D to quit. This view may no longer be accessible or work correctly after quitting.\n",
      "Press the 'q' key, Control-C, or Control-D to quit. This view may no longer be accessible or work correctly after quitting."
     ]
    }
   ],
   "source": [
    "!qiime tools view WB2019-table4.qzv\n",
    "\n",
    "#Number of samples\t79\n",
    "#Number of features\t21,545\n",
    "#Total frequency\t3,385,150"
   ]
  },
  {
   "cell_type": "code",
   "execution_count": null,
   "metadata": {},
   "outputs": [],
   "source": [
    "#Proceed with option 4"
   ]
  },
  {
   "cell_type": "code",
   "execution_count": 5,
   "metadata": {},
   "outputs": [
    {
     "name": "stdout",
     "output_type": "stream",
     "text": [
      "\u001b[32mSaved Visualization to: WB2019-table2.qzv\u001b[0m\n",
      "\u001b[32mSaved Visualization to: WB2019-rep-seqs2.qzv\u001b[0m\n"
     ]
    }
   ],
   "source": [
    "# Create visualizations for OTU table and representative sequences\n",
    "\n",
    "# Create visualizations for OTU table and representative sequences\n",
    "!qiime feature-table summarize \\\n",
    "--i-table WB2019-table.qza \\\n",
    "--o-visualization WB2019-table.qzv \n",
    "\n",
    "!qiime feature-table tabulate-seqs \\\n",
    "--i-data WB2019-rep-seqs.qza \\\n",
    "--o-visualization WB2019-rep-seqs.qzv\n",
    "\n",
    "!qiime feature-table summarize \\\n",
    "--i-table WB2019-table2.qza \\\n",
    "--o-visualization WB2019-table2.qzv \n",
    "\n",
    "!qiime feature-table tabulate-seqs \\\n",
    "--i-data WB2019-rep-seqs2.qza \\\n",
    "--o-visualization WB2019-rep-seqs2.qzv\n",
    "\n",
    "!qiime feature-table summarize \\\n",
    "--i-table WB2019-table3.qza \\\n",
    "--o-visualization WB2019-table3.qzv \n",
    "\n",
    "!qiime feature-table tabulate-seqs \\\n",
    "--i-data WB2019-rep-seqs3.qza \\\n",
    "--o-visualization WB2019-rep-seqs3.qzv\n",
    "\n",
    "!qiime feature-table summarize \\\n",
    "--i-table WB2019-table4.qza \\\n",
    "--o-visualization WB2019-table4.qzv \n",
    "\n",
    "!qiime feature-table tabulate-seqs \\\n",
    "--i-data WB2019-rep-seqs4.qza \\\n",
    "--o-visualization WB2019-rep-seqs4.qzv\n",
    "\n",
    "# View visualizations for OTU table and representative sequences \n",
    "#!qiime tools view WB161916S-table.qzv\n",
    "#!qiime tools view WB161916S-rep-seqs.qzv"
   ]
  },
  {
   "cell_type": "markdown",
   "metadata": {},
   "source": [
    "# Taxonomy assignment"
   ]
  },
  {
   "cell_type": "markdown",
   "metadata": {},
   "source": [
    "Download qiime 138 silva classifiers made by Mike Robeson on dropbox: https://www.dropbox.com/sh/nz7c5asn6b3hr1j/AAA9zGchu8Ya2Z93g6H7Xk65a?dl=0 (version 0.01, not sure what the differences are)"
   ]
  },
  {
   "cell_type": "markdown",
   "metadata": {},
   "source": [
    "### Classify representative sequences"
   ]
  },
  {
   "cell_type": "code",
   "execution_count": 7,
   "metadata": {},
   "outputs": [
    {
     "name": "stdout",
     "output_type": "stream",
     "text": [
      "\u001b[32mSaved FeatureData[Taxonomy] to: WB2019-taxonomy.qza\u001b[0m\r\n"
     ]
    }
   ],
   "source": [
    "## This step sometimes freezes up\n",
    "\n",
    "!qiime feature-classifier classify-sklearn \\\n",
    "  --i-classifier silva-138-qiime/Silva-v138-515f-806r-taxonomy-classifier.qza \\\n",
    "  --i-reads  WB2019-rep-seqs4.qza \\\n",
    "  --o-classification  WB2019-taxonomy.qza"
   ]
  },
  {
   "cell_type": "markdown",
   "metadata": {},
   "source": [
    "## Export representative sequences, taxonomy, OTU table, and metadata to create a .biom file to use for data analysis"
   ]
  },
  {
   "cell_type": "code",
   "execution_count": null,
   "metadata": {},
   "outputs": [],
   "source": [
    "# Make a new directory to export the files to\n",
    "!mkdir  WB2019_OTU_table\n",
    "\n",
    "# Export OTU table, representative sequences, and taxonomy; copy metadata (.txt)  \n",
    "!qiime tools export WB161916S-table4.qza --output-dir WB2019_OTU_table\n",
    "!qiime tools export WB161916S-rep-seqs.qza --output-dir WB2019_OTU_table\n",
    "!qiime tools export WB161916S-taxonomy.qza --output-dir WB2019_OTU_table\n",
    "!cp dai2016-metadata.txt WB2019_OTU_table/\n",
    "\n",
    "# Check out files in directory; should have dna-sequences.fastq, taxonomy.tsv, feature-table.biom, and the metadata.txt\n",
    "!ls WB2019_OTU_table/\n",
    "\n",
    "# Add information from metadata.txt to the feature-table.biom\n",
    "!biom add-metadata \\\n",
    "-i WB2019_OTU_table/feature-table.biom \\\n",
    "-o WB2019_OTU_table/feature-table-metaD.biom \\\n",
    "-m WB2019_OTU_table/WB161916S-table-metadata.txt\n",
    "\n",
    "# Add taxonomy data\n",
    "!biom add-metadata \\\n",
    "-i WB2019_OTU_table/feature-table-metaD.biom \\\n",
    "-o WB2019_OTU_table/feature-table-metaD-tax.biom \\\n",
    "--observation-metadata-fp WB2019_OTU_table/taxonomy.tsv \\\n",
    "--sc-separated taxonomy \\\n",
    "--observation-header OTUID,taxonomy\n",
    "\n",
    "# Check your work by creating a summary text file - view summary to make sure information was saved to .biom\n",
    "!biom summarize-table \\\n",
    "-i WB2019_OTU_table/feature-table-metaD-tax.biom \\\n",
    "-o WB2019_OTU_table/feature-table-metaD-tax-summary.txt\n",
    "\n",
    "!head -20 WB2019_OTU_table/feature-table-metaD-tax-summary.txt\n",
    "\n",
    "# convert the .biom to json format to work with phyloseq package\n",
    "!biom convert \\\n",
    "-i WB2019_OTU_table/feature-table-metaD-tax.biom \\\n",
    "-o WB2019_OTU_table/feature-table-metaD-tax_json.biom \\\n",
    "--table-type=\"OTU table\" \\\n",
    "--to-json"
   ]
  }
 ],
 "metadata": {
  "kernelspec": {
   "display_name": "Python 3",
   "language": "python",
   "name": "python3"
  },
  "language_info": {
   "codemirror_mode": {
    "name": "ipython",
    "version": 3
   },
   "file_extension": ".py",
   "mimetype": "text/x-python",
   "name": "python",
   "nbconvert_exporter": "python",
   "pygments_lexer": "ipython3",
   "version": "3.6.7"
  }
 },
 "nbformat": 4,
 "nbformat_minor": 2
}
